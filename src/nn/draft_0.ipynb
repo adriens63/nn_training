{
 "cells": [
  {
   "cell_type": "markdown",
   "metadata": {},
   "source": [
    "# display masks"
   ]
  },
  {
   "cell_type": "code",
   "execution_count": 3,
   "metadata": {},
   "outputs": [],
   "source": [
    "import os\n",
    "import os.path as osp\n",
    "import numpy as np\n",
    "import torch\n",
    "from PIL import Image\n",
    "from colormap import rgb2hex"
   ]
  },
  {
   "cell_type": "code",
   "execution_count": 4,
   "metadata": {},
   "outputs": [],
   "source": [
    "import tqdm"
   ]
  },
  {
   "cell_type": "code",
   "execution_count": 5,
   "metadata": {},
   "outputs": [],
   "source": [
    "\n",
    "class EndovisDataset(torch.utils.data.Dataset):\n",
    "    def __init__(self, root, transforms):\n",
    "        self.root = root\n",
    "        self.transforms = transforms\n",
    "        # load all image files, sorting them to\n",
    "        # ensure that they are aligned\n",
    "\n",
    "        self.sub_folders = list(sorted(os.listdir(root)))\n",
    "        self.sub_sub_folder = 'left_frames'\n",
    "        self.sub_sub_folder_masks = 'ground_truth/TypeSegmentationRescaled'\n",
    "        self.imgs = []\n",
    "        self.masks = []\n",
    "        for sf in self.sub_folders[:-1]:\n",
    "\n",
    "            list_files = list(sorted(os.listdir(osp.join(root, sf, self.sub_sub_folder))))\n",
    "            list_path = [osp.join(root, sf, self.sub_sub_folder, file) for file in list_files]\n",
    "\n",
    "            list_masks = list(sorted(os.listdir(osp.join(root, sf, self.sub_sub_folder_masks))))\n",
    "            list_path_masks = [osp.join(root, sf, self.sub_sub_folder_masks, file) for file in list_masks]\n",
    "\n",
    "            self.imgs += list_path\n",
    "            self.masks += list_path_masks\n",
    "\n",
    "    def __getitem__(self, idx):\n",
    "        # load images and masks\n",
    "        img_path = self.imgs[idx]\n",
    "        mask_path = self.masks[idx]\n",
    "        img = Image.open(img_path).convert(\"RGB\")\n",
    "        \n",
    "        mask = Image.open(mask_path)\n",
    "        # convert the PIL Image into a numpy array\n",
    "        mask = np.array(mask)\n",
    "        # instances are encoded as different colors\n",
    "        mask_hex = np.apply_along_axis(lambda x : rgb2hex(x[0], x[1], x[2]), axis=-1, arr = mask.astype(np.int64) )  \n",
    "        # instances are encoded as different colors\n",
    "        obj_ids = np.unique(mask_hex)\n",
    "\n",
    "        # first id is the background, so remove it\n",
    "        obj_ids = obj_ids[1:]\n",
    "\n",
    "        # generate as puch masks as objects cf notebook\n",
    "        masks = mask_hex == obj_ids[:, None, None]\n",
    "\n",
    "        # get bounding box coordinates for each mask\n",
    "        num_objs = len(obj_ids)\n",
    "        boxes = []\n",
    "        for i in range(num_objs):\n",
    "            pos = np.where(masks[i])\n",
    "            xmin = np.min(pos[1])\n",
    "            xmax = np.max(pos[1])\n",
    "            ymin = np.min(pos[0])\n",
    "            ymax = np.max(pos[0])\n",
    "            if xmin >= xmax or ymin >= ymax:\n",
    "                continue\n",
    "            boxes.append([xmin, ymin, xmax, ymax])\n",
    "\n",
    "        # convert everything into a torch.Tensor\n",
    "        boxes = torch.as_tensor(boxes, dtype=torch.float32)\n",
    "        # there is only one class\n",
    "        labels = torch.ones((num_objs,), dtype=torch.int64)\n",
    "        masks = torch.as_tensor(masks, dtype=torch.uint8)\n",
    "\n",
    "        image_id = torch.tensor([idx])\n",
    "        area = (boxes[:, 3] - boxes[:, 1]) * (boxes[:, 2] - boxes[:, 0])\n",
    "        # suppose all instances are not crowd\n",
    "        iscrowd = torch.zeros((num_objs,), dtype=torch.int64)\n",
    "\n",
    "        target = {}\n",
    "        target[\"boxes\"] = boxes\n",
    "        target[\"labels\"] = labels\n",
    "        target[\"masks\"] = masks\n",
    "        target[\"image_id\"] = image_id\n",
    "        target[\"area\"] = area\n",
    "        target[\"iscrowd\"] = iscrowd\n",
    "\n",
    "        if self.transforms is not None:\n",
    "            img, target = self.transforms(img, target)\n",
    "\n",
    "        return img, target\n",
    "\n",
    "    def __len__(self):\n",
    "        return len(self.imgs)\n"
   ]
  },
  {
   "cell_type": "code",
   "execution_count": 6,
   "metadata": {},
   "outputs": [
    {
     "name": "stdout",
     "output_type": "stream",
     "text": [
      "Read successful\n",
      "{'model_name': 'fine_tuned_m_r_cnn_0', 'tasks': ['bbox', 'segm'], 'heads': {'bbox': 'fastrcnn', 'segm': 'maskrcnn', 'class': None}, 'device': 'cuda', 'distributed_training': True, 'num_classes': 2, 'hidden_layer_segm': 256, 'loss_fn': None, 'dataset': 'endovis', 'train_ds': '/data/user/DATA_SSD1/__adri/endovis/Test', 'val_ds': '/data/user/DATA_SSD1/__adri/endovis/Test', 'weights_path': '/data/user/DATA_SSD1/__adri/weights/', 'batch_size': 6, 'epochs': 40, 'patience': 3, 'checkpoint_frequency': 2, 'train_steps': None, 'val_steps': None}\n"
     ]
    }
   ],
   "source": [
    "import yaml\n",
    "\n",
    "with open(\"./config/config_endovis.yml\", \"r\") as yamlfile:\n",
    "    config = yaml.load(yamlfile, Loader=yaml.FullLoader)\n",
    "    print(\"Read successful\")\n",
    "print(config)"
   ]
  },
  {
   "cell_type": "markdown",
   "metadata": {},
   "source": [
    "## train fn"
   ]
  },
  {
   "cell_type": "code",
   "execution_count": 7,
   "metadata": {},
   "outputs": [],
   "source": [
    "import sys"
   ]
  },
  {
   "cell_type": "code",
   "execution_count": 8,
   "metadata": {},
   "outputs": [
    {
     "data": {
      "text/plain": [
       "['/coding_linux20/encov_torch/nn_training/src/nn',\n",
       " '/opt/conda/lib/python37.zip',\n",
       " '/opt/conda/lib/python3.7',\n",
       " '/opt/conda/lib/python3.7/lib-dynload',\n",
       " '',\n",
       " '/opt/conda/lib/python3.7/site-packages',\n",
       " '/opt/conda/lib/python3.7/site-packages/IPython/extensions',\n",
       " '/root/.ipython']"
      ]
     },
     "execution_count": 8,
     "metadata": {},
     "output_type": "execute_result"
    }
   ],
   "source": [
    "sys.path"
   ]
  },
  {
   "cell_type": "code",
   "execution_count": 9,
   "metadata": {},
   "outputs": [],
   "source": [
    "sys.path.append('/coding_linux20/encov_torch/nn_training')"
   ]
  },
  {
   "cell_type": "code",
   "execution_count": 10,
   "metadata": {},
   "outputs": [],
   "source": [
    "from archs.data_load import *\n",
    "from archs.helper import *\n",
    "#from src.nn.archs.segmentation import *\n",
    "from archs.trainer import Trainer\n",
    "\n",
    "from models.models import *\n",
    "\n",
    "import references.detection.utils as utils\n",
    "\n",
    "from src.tools.helper import log_config"
   ]
  },
  {
   "cell_type": "code",
   "execution_count": 11,
   "metadata": {},
   "outputs": [],
   "source": [
    "device = torch.device(config['device'])\n",
    "\n",
    "# use our dataset and defined transformations\n",
    "if config['dataset'] == 'pennpudanped':\n",
    "    dataset = PennFudanDataset(config['train_ds'], get_transform(train=True))\n",
    "    dataset_test = PennFudanDataset(config['val_ds'], get_transform(train=False))\n",
    "    \n",
    "if config['dataset'] == 'endovis':\n",
    "    dataset = EndovisDataset(config['train_ds'], get_transform(train=True))\n",
    "    dataset_test = EndovisDataset(config['val_ds'], get_transform(train=False))\n",
    "\n",
    "# split the dataset in train and test set\n",
    "indices = torch.randperm(len(dataset)).tolist()\n",
    "dataset = torch.utils.data.Subset(dataset, indices[:-50])\n",
    "dataset_test = torch.utils.data.Subset(dataset_test, indices[-50:])\n",
    "\n",
    "# define training and validation data loaders\n",
    "train_dataloader = torch.utils.data.DataLoader(\n",
    "    dataset, batch_size=config['batch_size'], shuffle=True, num_workers=4,\n",
    "    collate_fn=utils.collate_fn)\n",
    "\n",
    "val_dataloader = torch.utils.data.DataLoader(\n",
    "    dataset_test, batch_size=config['batch_size'], shuffle=False, num_workers=4,\n",
    "    collate_fn=utils.collate_fn)\n",
    "\n",
    "# get the model using our helper function\n",
    "nn = get_model_instance(config['num_classes'], config['hidden_layer_segm'] ,config['heads'])\n",
    "#nn = get_model_instance_segmentation(2)\n",
    "\n",
    "# # move model to the right device\n",
    "# model.to(device)\n",
    "\n",
    "# construct an optimizer\n",
    "params = [p for p in nn.parameters() if p.requires_grad]\n",
    "optimizer = torch.optim.SGD(params, lr=0.005,\n",
    "                            momentum=0.9, weight_decay=0.0005)\n",
    "# and a learning rate scheduler\n",
    "lr_scheduler = torch.optim.lr_scheduler.StepLR(optimizer,\n",
    "                                                step_size=3,\n",
    "                                                gamma=0.1)"
   ]
  },
  {
   "cell_type": "markdown",
   "metadata": {},
   "source": [
    "## use data loader to display a mask"
   ]
  },
  {
   "cell_type": "code",
   "execution_count": 12,
   "metadata": {},
   "outputs": [],
   "source": [
    "training_loader_iter = iter(train_dataloader)"
   ]
  },
  {
   "cell_type": "code",
   "execution_count": 13,
   "metadata": {},
   "outputs": [],
   "source": [
    "x, y = next(training_loader_iter)"
   ]
  },
  {
   "cell_type": "markdown",
   "metadata": {},
   "source": [
    "### Examine x"
   ]
  },
  {
   "cell_type": "code",
   "execution_count": 17,
   "metadata": {},
   "outputs": [
    {
     "data": {
      "text/plain": [
       "6"
      ]
     },
     "execution_count": 17,
     "metadata": {},
     "output_type": "execute_result"
    }
   ],
   "source": [
    "len(x)"
   ]
  },
  {
   "cell_type": "code",
   "execution_count": 21,
   "metadata": {},
   "outputs": [
    {
     "data": {
      "text/plain": [
       "tensor([  0,   1,   2,   3,   4,   5,   6,   7,   8,   9,  10,  11,  12,  13,\n",
       "         14,  15,  16,  17,  18,  19,  20,  21,  22,  23,  24,  25,  26,  27,\n",
       "         28,  29,  30,  31,  32,  33,  34,  35,  36,  37,  38,  39,  40,  41,\n",
       "         42,  43,  44,  45,  46,  47,  48,  49,  50,  51,  52,  53,  54,  55,\n",
       "         56,  57,  58,  59,  60,  61,  62,  63,  64,  65,  66,  67,  68,  69,\n",
       "         70,  71,  72,  73,  74,  75,  76,  77,  78,  79,  80,  81,  82,  83,\n",
       "         84,  85,  86,  87,  88,  89,  90,  91,  92,  93,  94,  95,  96,  97,\n",
       "         98,  99, 100, 101, 102, 103, 104, 105, 106, 107, 108, 109, 110, 111,\n",
       "        112, 113, 114, 115, 116, 117, 118, 119, 120, 121, 122, 123, 124, 125,\n",
       "        126, 127, 128, 129, 130, 131, 132, 133, 134, 135, 136, 137, 138, 139,\n",
       "        140, 141, 142, 143, 144, 145, 146, 147, 148, 149, 150, 151, 152, 153,\n",
       "        154, 155, 156, 157, 158, 159, 160, 161, 162, 163, 164, 165, 166, 167,\n",
       "        168, 169, 170, 171, 172, 173, 174, 175, 176, 177, 178, 179, 180, 181,\n",
       "        182, 183, 184, 185, 186, 187, 188, 189, 190, 191, 192, 193, 194, 195,\n",
       "        196, 197, 198, 199, 200, 201, 202, 203, 204, 205, 206, 207, 208, 209,\n",
       "        210, 211, 212, 213, 214, 215, 216, 217, 218, 219, 220, 221, 222, 223,\n",
       "        224, 225, 226, 227, 228, 229, 230, 231, 232, 233, 234, 235, 236, 237,\n",
       "        238, 239, 240, 241, 242, 243, 244, 245, 246, 247, 248, 249, 250, 251,\n",
       "        252, 253, 254, 255], dtype=torch.uint8)"
      ]
     },
     "execution_count": 21,
     "metadata": {},
     "output_type": "execute_result"
    }
   ],
   "source": [
    "torch.unique(x[0])"
   ]
  },
  {
   "cell_type": "code",
   "execution_count": 22,
   "metadata": {},
   "outputs": [
    {
     "data": {
      "text/plain": [
       "(tensor([[[15, 15, 15,  ..., 15, 15, 15],\n",
       "          [15, 15, 15,  ..., 15, 15, 15],\n",
       "          [15, 15, 15,  ..., 15, 15, 15],\n",
       "          ...,\n",
       "          [15, 15, 15,  ..., 15, 15, 15],\n",
       "          [15, 15, 15,  ..., 15, 15, 15],\n",
       "          [15, 15, 15,  ..., 15, 15, 15]],\n",
       " \n",
       "         [[15, 15, 15,  ..., 15, 15, 15],\n",
       "          [15, 15, 15,  ..., 15, 15, 15],\n",
       "          [15, 15, 15,  ..., 15, 15, 15],\n",
       "          ...,\n",
       "          [15, 15, 15,  ..., 15, 15, 15],\n",
       "          [15, 15, 15,  ..., 15, 15, 15],\n",
       "          [15, 15, 15,  ..., 15, 15, 15]],\n",
       " \n",
       "         [[15, 15, 15,  ..., 15, 15, 15],\n",
       "          [15, 15, 15,  ..., 15, 15, 15],\n",
       "          [15, 15, 15,  ..., 15, 15, 15],\n",
       "          ...,\n",
       "          [15, 15, 15,  ..., 15, 15, 15],\n",
       "          [15, 15, 15,  ..., 15, 15, 15],\n",
       "          [15, 15, 15,  ..., 15, 15, 15]]], dtype=torch.uint8),\n",
       " tensor([[[15, 15, 15,  ..., 15, 15, 15],\n",
       "          [15, 15, 15,  ..., 15, 15, 15],\n",
       "          [15, 15, 15,  ..., 15, 15, 15],\n",
       "          ...,\n",
       "          [15, 15, 15,  ..., 15, 15, 15],\n",
       "          [15, 15, 15,  ..., 15, 15, 15],\n",
       "          [15, 15, 15,  ..., 15, 15, 15]],\n",
       " \n",
       "         [[15, 15, 15,  ..., 15, 15, 15],\n",
       "          [15, 15, 15,  ..., 15, 15, 15],\n",
       "          [15, 15, 15,  ..., 15, 15, 15],\n",
       "          ...,\n",
       "          [15, 15, 15,  ..., 15, 15, 15],\n",
       "          [15, 15, 15,  ..., 15, 15, 15],\n",
       "          [15, 15, 15,  ..., 15, 15, 15]],\n",
       " \n",
       "         [[15, 15, 15,  ..., 15, 15, 15],\n",
       "          [15, 15, 15,  ..., 15, 15, 15],\n",
       "          [15, 15, 15,  ..., 15, 15, 15],\n",
       "          ...,\n",
       "          [15, 15, 15,  ..., 15, 15, 15],\n",
       "          [15, 15, 15,  ..., 15, 15, 15],\n",
       "          [15, 15, 15,  ..., 15, 15, 15]]], dtype=torch.uint8),\n",
       " tensor([[[15, 15, 15,  ..., 15, 15, 15],\n",
       "          [15, 15, 15,  ..., 15, 15, 15],\n",
       "          [15, 15, 15,  ..., 15, 15, 15],\n",
       "          ...,\n",
       "          [15, 15, 15,  ..., 15, 15, 15],\n",
       "          [15, 15, 15,  ..., 15, 15, 15],\n",
       "          [15, 15, 15,  ..., 15, 15, 15]],\n",
       " \n",
       "         [[15, 15, 15,  ..., 15, 15, 15],\n",
       "          [15, 15, 15,  ..., 15, 15, 15],\n",
       "          [15, 15, 15,  ..., 15, 15, 15],\n",
       "          ...,\n",
       "          [15, 15, 15,  ..., 15, 15, 15],\n",
       "          [15, 15, 15,  ..., 15, 15, 15],\n",
       "          [15, 15, 15,  ..., 15, 15, 15]],\n",
       " \n",
       "         [[15, 15, 15,  ..., 15, 15, 15],\n",
       "          [15, 15, 15,  ..., 15, 15, 15],\n",
       "          [15, 15, 15,  ..., 15, 15, 15],\n",
       "          ...,\n",
       "          [15, 15, 15,  ..., 15, 15, 15],\n",
       "          [15, 15, 15,  ..., 15, 15, 15],\n",
       "          [15, 15, 15,  ..., 15, 15, 15]]], dtype=torch.uint8),\n",
       " tensor([[[15, 15, 15,  ..., 15, 15, 15],\n",
       "          [15, 15, 15,  ..., 15, 15, 15],\n",
       "          [15, 15, 15,  ..., 15, 15, 15],\n",
       "          ...,\n",
       "          [15, 15, 15,  ..., 15, 15, 15],\n",
       "          [15, 15, 15,  ..., 15, 15, 15],\n",
       "          [15, 15, 15,  ..., 15, 15, 15]],\n",
       " \n",
       "         [[15, 15, 15,  ..., 15, 15, 15],\n",
       "          [15, 15, 15,  ..., 15, 15, 15],\n",
       "          [15, 15, 15,  ..., 15, 15, 15],\n",
       "          ...,\n",
       "          [15, 15, 15,  ..., 15, 15, 15],\n",
       "          [15, 15, 15,  ..., 15, 15, 15],\n",
       "          [15, 15, 15,  ..., 15, 15, 15]],\n",
       " \n",
       "         [[15, 15, 15,  ..., 15, 15, 15],\n",
       "          [15, 15, 15,  ..., 15, 15, 15],\n",
       "          [15, 15, 15,  ..., 15, 15, 15],\n",
       "          ...,\n",
       "          [15, 15, 15,  ..., 15, 15, 15],\n",
       "          [15, 15, 15,  ..., 15, 15, 15],\n",
       "          [15, 15, 15,  ..., 15, 15, 15]]], dtype=torch.uint8),\n",
       " tensor([[[15, 15, 15,  ..., 15, 15, 15],\n",
       "          [15, 15, 15,  ..., 15, 15, 15],\n",
       "          [15, 15, 15,  ..., 15, 15, 15],\n",
       "          ...,\n",
       "          [15, 15, 15,  ..., 15, 15, 15],\n",
       "          [15, 15, 15,  ..., 15, 15, 15],\n",
       "          [15, 15, 15,  ..., 15, 15, 15]],\n",
       " \n",
       "         [[15, 15, 15,  ..., 15, 15, 15],\n",
       "          [15, 15, 15,  ..., 15, 15, 15],\n",
       "          [15, 15, 15,  ..., 15, 15, 15],\n",
       "          ...,\n",
       "          [15, 15, 15,  ..., 15, 15, 15],\n",
       "          [15, 15, 15,  ..., 15, 15, 15],\n",
       "          [15, 15, 15,  ..., 15, 15, 15]],\n",
       " \n",
       "         [[15, 15, 15,  ..., 15, 15, 15],\n",
       "          [15, 15, 15,  ..., 15, 15, 15],\n",
       "          [15, 15, 15,  ..., 15, 15, 15],\n",
       "          ...,\n",
       "          [15, 15, 15,  ..., 15, 15, 15],\n",
       "          [15, 15, 15,  ..., 15, 15, 15],\n",
       "          [15, 15, 15,  ..., 15, 15, 15]]], dtype=torch.uint8),\n",
       " tensor([[[15, 15, 15,  ..., 15, 15, 15],\n",
       "          [15, 15, 15,  ..., 15, 15, 15],\n",
       "          [15, 15, 15,  ..., 15, 15, 15],\n",
       "          ...,\n",
       "          [15, 15, 15,  ..., 15, 15, 15],\n",
       "          [15, 15, 15,  ..., 15, 15, 15],\n",
       "          [15, 15, 15,  ..., 15, 15, 15]],\n",
       " \n",
       "         [[15, 15, 15,  ..., 15, 15, 15],\n",
       "          [15, 15, 15,  ..., 15, 15, 15],\n",
       "          [15, 15, 15,  ..., 15, 15, 15],\n",
       "          ...,\n",
       "          [15, 15, 15,  ..., 15, 15, 15],\n",
       "          [15, 15, 15,  ..., 15, 15, 15],\n",
       "          [15, 15, 15,  ..., 15, 15, 15]],\n",
       " \n",
       "         [[15, 15, 15,  ..., 15, 15, 15],\n",
       "          [15, 15, 15,  ..., 15, 15, 15],\n",
       "          [15, 15, 15,  ..., 15, 15, 15],\n",
       "          ...,\n",
       "          [15, 15, 15,  ..., 15, 15, 15],\n",
       "          [15, 15, 15,  ..., 15, 15, 15],\n",
       "          [15, 15, 15,  ..., 15, 15, 15]]], dtype=torch.uint8))"
      ]
     },
     "execution_count": 22,
     "metadata": {},
     "output_type": "execute_result"
    }
   ],
   "source": [
    "x"
   ]
  },
  {
   "cell_type": "markdown",
   "metadata": {},
   "source": [
    "### y"
   ]
  },
  {
   "cell_type": "code",
   "execution_count": 14,
   "metadata": {},
   "outputs": [
    {
     "data": {
      "text/plain": [
       "6"
      ]
     },
     "execution_count": 14,
     "metadata": {},
     "output_type": "execute_result"
    }
   ],
   "source": [
    "len(y)"
   ]
  },
  {
   "cell_type": "code",
   "execution_count": 15,
   "metadata": {},
   "outputs": [
    {
     "data": {
      "text/plain": [
       "dict_keys(['boxes', 'labels', 'masks', 'image_id', 'area', 'iscrowd'])"
      ]
     },
     "execution_count": 15,
     "metadata": {},
     "output_type": "execute_result"
    }
   ],
   "source": [
    "y[0].keys()"
   ]
  },
  {
   "cell_type": "code",
   "execution_count": 29,
   "metadata": {},
   "outputs": [
    {
     "data": {
      "text/plain": [
       "tensor([0, 1], dtype=torch.uint8)"
      ]
     },
     "execution_count": 29,
     "metadata": {},
     "output_type": "execute_result"
    }
   ],
   "source": [
    "torch.unique(y[0]['masks'])"
   ]
  },
  {
   "cell_type": "code",
   "execution_count": 30,
   "metadata": {},
   "outputs": [],
   "source": [
    "import cv2\n",
    "import numpy as np\n",
    "import random\n",
    "import torch\n",
    "from colormap import hex2rgb\n",
    "\n",
    "coco_names = [\n",
    "    '__background__', 'person', 'bicycle', 'car', 'motorcycle', 'airplane', 'bus',\n",
    "    'train', 'truck', 'boat', 'traffic light', 'fire hydrant', 'N/A', 'stop sign',\n",
    "    'parking meter', 'bench', 'bird', 'cat', 'dog', 'horse', 'sheep', 'cow',\n",
    "    'elephant', 'bear', 'zebra', 'giraffe', 'N/A', 'backpack', 'umbrella', 'N/A', 'N/A',\n",
    "    'handbag', 'tie', 'suitcase', 'frisbee', 'skis', 'snowboard', 'sports ball',\n",
    "    'kite', 'baseball bat', 'baseball glove', 'skateboard', 'surfboard', 'tennis racket',\n",
    "    'bottle', 'N/A', 'wine glass', 'cup', 'fork', 'knife', 'spoon', 'bowl',\n",
    "    'banana', 'apple', 'sandwich', 'orange', 'broccoli', 'carrot', 'hot dog', 'pizza',\n",
    "    'donut', 'cake', 'chair', 'couch', 'potted plant', 'bed', 'N/A', 'dining table',\n",
    "    'N/A', 'N/A', 'toilet', 'N/A', 'tv', 'laptop', 'mouse', 'remote', 'keyboard', 'cell phone',\n",
    "    'microwave', 'oven', 'toaster', 'sink', 'refrigerator', 'N/A', 'book',\n",
    "    'clock', 'vase', 'scissors', 'teddy bear', 'hair drier', 'toothbrush'\n",
    "]\n",
    "\n",
    "\n",
    "\n",
    "\n",
    "# this will help us create a different color for each class\n",
    "COLORS = np.random.uniform(0, 255, size=(len(coco_names), 3))\n"
   ]
  },
  {
   "cell_type": "code",
   "execution_count": 60,
   "metadata": {},
   "outputs": [],
   "source": [
    "\n",
    "def draw_segmentation_map(image, masks, boxes, labels):\n",
    "    alpha = 1 \n",
    "    beta = 0.6 # transparency for the segmentation map\n",
    "    gamma = 0 # scalar added to each sum\n",
    "    for i in range(len(masks)):\n",
    "        red_map = np.zeros_like(masks[i]).astype(np.uint8)\n",
    "        green_map = np.zeros_like(masks[i]).astype(np.uint8)\n",
    "        blue_map = np.zeros_like(masks[i]).astype(np.uint8)\n",
    "        # apply a randon color mask to each object\n",
    "        color = COLORS[random.randrange(0, len(COLORS))]\n",
    "        red_map[masks[i] == 1], green_map[masks[i] == 1], blue_map[masks[i] == 1]  = color\n",
    "        # combine all the masks into a single image\n",
    "        segmentation_map = np.stack([red_map, green_map, blue_map], axis=2)\n",
    "        #convert the original PIL image into NumPy format\n",
    "        image = np.array(image)\n",
    "        print('*******image ', image.shape)\n",
    "        # convert from RGN to OpenCV BGR format\n",
    "        image = cv2.cvtColor(image, cv2.COLOR_RGB2BGR)\n",
    "        print('*******image ', image.shape)\n",
    "        # apply mask on the image\n",
    "        print('*******red_map ', red_map.shape)\n",
    "        print('*******segmentation_map ', segmentation_map.shape)\n",
    "        print('*******image ', image.shape)\n",
    "        cv2.addWeighted(image, alpha, segmentation_map, beta, gamma, image)\n",
    "        # draw the bounding boxes around the objects\n",
    "        print('rrr', image)\n",
    "        print('rrr', boxes[i][0])\n",
    "        print('rrr', boxes[i][1])\n",
    "        \n",
    "        cv2.rectangle(image, boxes[i][0], boxes[i][1], color=color, \n",
    "                      thickness=2)\n",
    "        # put the label text above the objects\n",
    "        cv2.putText(image , labels[i], (boxes[i][0][0], boxes[i][0][1]-10), \n",
    "                    cv2.FONT_HERSHEY_SIMPLEX, 1, color, \n",
    "                    thickness=2, lineType=cv2.LINE_AA)\n",
    "    \n",
    "    return np.array(image)"
   ]
  },
  {
   "cell_type": "code",
   "execution_count": 61,
   "metadata": {},
   "outputs": [],
   "source": [
    "boxes_ = y[0]['boxes'].tolist()"
   ]
  },
  {
   "cell_type": "code",
   "execution_count": 67,
   "metadata": {},
   "outputs": [],
   "source": [
    "boxes = [[(int(box[0]),int(box[1])), (int(box[2]),int(box[3]))] for box in boxes_]"
   ]
  },
  {
   "cell_type": "code",
   "execution_count": 68,
   "metadata": {},
   "outputs": [
    {
     "data": {
      "text/plain": [
       "[[(329, 735), (361, 780)], [(1015, 643), (1589, 874)]]"
      ]
     },
     "execution_count": 68,
     "metadata": {},
     "output_type": "execute_result"
    }
   ],
   "source": [
    "boxes"
   ]
  },
  {
   "cell_type": "code",
   "execution_count": 69,
   "metadata": {},
   "outputs": [],
   "source": [
    "labels = ['xxx'] * len(boxes)"
   ]
  },
  {
   "cell_type": "code",
   "execution_count": 70,
   "metadata": {},
   "outputs": [],
   "source": [
    "img = np.moveaxis(x[0].numpy(), 0, -1)"
   ]
  },
  {
   "cell_type": "code",
   "execution_count": 71,
   "metadata": {},
   "outputs": [
    {
     "name": "stdout",
     "output_type": "stream",
     "text": [
      "*******image  (1080, 1920, 3)\n",
      "*******image  (1080, 1920, 3)\n",
      "*******red_map  (1080, 1920)\n",
      "*******segmentation_map  (1080, 1920, 3)\n",
      "*******image  (1080, 1920, 3)\n",
      "rrr [[[15 15 15]\n",
      "  [15 15 15]\n",
      "  [15 15 15]\n",
      "  ...\n",
      "  [15 15 15]\n",
      "  [15 15 15]\n",
      "  [15 15 15]]\n",
      "\n",
      " [[15 15 15]\n",
      "  [15 15 15]\n",
      "  [15 15 15]\n",
      "  ...\n",
      "  [15 15 15]\n",
      "  [15 15 15]\n",
      "  [15 15 15]]\n",
      "\n",
      " [[15 15 15]\n",
      "  [15 15 15]\n",
      "  [15 15 15]\n",
      "  ...\n",
      "  [15 15 15]\n",
      "  [15 15 15]\n",
      "  [15 15 15]]\n",
      "\n",
      " ...\n",
      "\n",
      " [[15 15 15]\n",
      "  [15 15 15]\n",
      "  [15 15 15]\n",
      "  ...\n",
      "  [15 15 15]\n",
      "  [15 15 15]\n",
      "  [15 15 15]]\n",
      "\n",
      " [[15 15 15]\n",
      "  [15 15 15]\n",
      "  [15 15 15]\n",
      "  ...\n",
      "  [15 15 15]\n",
      "  [15 15 15]\n",
      "  [15 15 15]]\n",
      "\n",
      " [[15 15 15]\n",
      "  [15 15 15]\n",
      "  [15 15 15]\n",
      "  ...\n",
      "  [15 15 15]\n",
      "  [15 15 15]\n",
      "  [15 15 15]]]\n",
      "rrr (329, 735)\n",
      "rrr (361, 780)\n",
      "*******image  (1080, 1920, 3)\n",
      "*******image  (1080, 1920, 3)\n",
      "*******red_map  (1080, 1920)\n",
      "*******segmentation_map  (1080, 1920, 3)\n",
      "*******image  (1080, 1920, 3)\n",
      "rrr [[[15 15 15]\n",
      "  [15 15 15]\n",
      "  [15 15 15]\n",
      "  ...\n",
      "  [15 15 15]\n",
      "  [15 15 15]\n",
      "  [15 15 15]]\n",
      "\n",
      " [[15 15 15]\n",
      "  [15 15 15]\n",
      "  [15 15 15]\n",
      "  ...\n",
      "  [15 15 15]\n",
      "  [15 15 15]\n",
      "  [15 15 15]]\n",
      "\n",
      " [[15 15 15]\n",
      "  [15 15 15]\n",
      "  [15 15 15]\n",
      "  ...\n",
      "  [15 15 15]\n",
      "  [15 15 15]\n",
      "  [15 15 15]]\n",
      "\n",
      " ...\n",
      "\n",
      " [[15 15 15]\n",
      "  [15 15 15]\n",
      "  [15 15 15]\n",
      "  ...\n",
      "  [15 15 15]\n",
      "  [15 15 15]\n",
      "  [15 15 15]]\n",
      "\n",
      " [[15 15 15]\n",
      "  [15 15 15]\n",
      "  [15 15 15]\n",
      "  ...\n",
      "  [15 15 15]\n",
      "  [15 15 15]\n",
      "  [15 15 15]]\n",
      "\n",
      " [[15 15 15]\n",
      "  [15 15 15]\n",
      "  [15 15 15]\n",
      "  ...\n",
      "  [15 15 15]\n",
      "  [15 15 15]\n",
      "  [15 15 15]]]\n",
      "rrr (1015, 643)\n",
      "rrr (1589, 874)\n"
     ]
    }
   ],
   "source": [
    "img = draw_segmentation_map(img, y[0]['masks'], boxes, labels)"
   ]
  },
  {
   "cell_type": "code",
   "execution_count": 73,
   "metadata": {},
   "outputs": [],
   "source": [
    "import matplotlib.pyplot as plt"
   ]
  },
  {
   "cell_type": "code",
   "execution_count": 74,
   "metadata": {},
   "outputs": [
    {
     "data": {
      "text/plain": [
       "<matplotlib.image.AxesImage at 0x7fb69ed86890>"
      ]
     },
     "execution_count": 74,
     "metadata": {},
     "output_type": "execute_result"
    },
    {
     "data": {
      "image/png": "[encoded data removed]",
      "text/plain": [
       "<Figure size 432x288 with 1 Axes>"
      ]
     },
     "metadata": {
      "needs_background": "light"
     },
     "output_type": "display_data"
    }
   ],
   "source": [
    "plt.imshow(img)"
   ]
  },
  {
   "cell_type": "markdown",
   "metadata": {},
   "source": [
    "# display model type"
   ]
  },
  {
   "cell_type": "code",
   "execution_count": 1,
   "metadata": {},
   "outputs": [],
   "source": [
    "from models import models"
   ]
  },
  {
   "cell_type": "code",
   "execution_count": 7,
   "metadata": {},
   "outputs": [],
   "source": [
    "import torchvision\n",
    "import torch"
   ]
  },
  {
   "cell_type": "code",
   "execution_count": 3,
   "metadata": {},
   "outputs": [],
   "source": [
    "heads =  {'bbox': 'fastrcnn', 'segm': 'maskrcnn'}"
   ]
  },
  {
   "cell_type": "code",
   "execution_count": 5,
   "metadata": {},
   "outputs": [],
   "source": [
    "nn = models.get_model_instance(2, 256 , heads)"
   ]
  },
  {
   "cell_type": "code",
   "execution_count": 8,
   "metadata": {},
   "outputs": [],
   "source": [
    "def _get_iou_types(model):\n",
    "    model_without_ddp = model\n",
    "    if isinstance(model, torch.nn.parallel.DistributedDataParallel):\n",
    "        model_without_ddp = model.module\n",
    "    iou_types = [\"bbox\"]\n",
    "    if isinstance(model_without_ddp, torchvision.models.detection.MaskRCNN):\n",
    "        iou_types.append(\"segm\")\n",
    "    if isinstance(model_without_ddp, torchvision.models.detection.KeypointRCNN):\n",
    "        iou_types.append(\"keypoints\")\n",
    "    return iou_types"
   ]
  },
  {
   "cell_type": "code",
   "execution_count": 26,
   "metadata": {},
   "outputs": [
    {
     "data": {
      "text/plain": [
       "['bbox', 'segm']"
      ]
     },
     "execution_count": 26,
     "metadata": {},
     "output_type": "execute_result"
    }
   ],
   "source": [
    "_get_iou_types(nn)"
   ]
  },
  {
   "cell_type": "code",
   "execution_count": null,
   "metadata": {},
   "outputs": [],
   "source": []
  }
 ],
 "metadata": {
  "kernelspec": {
   "display_name": "Python 3.7.11 ('base')",
   "language": "python",
   "name": "python3"
  },
  "language_info": {
   "codemirror_mode": {
    "name": "ipython",
    "version": 3
   },
   "file_extension": ".py",
   "mimetype": "text/x-python",
   "name": "python",
   "nbconvert_exporter": "python",
   "pygments_lexer": "ipython3",
   "version": "3.7.11"
  },
  "orig_nbformat": 4,
  "vscode": {
   "interpreter": {
    "hash": "d4d1e4263499bec80672ea0156c357c1ee493ec2b1c70f0acce89fc37c4a6abe"
   }
  }
 },
 "nbformat": 4,
 "nbformat_minor": 2
}
